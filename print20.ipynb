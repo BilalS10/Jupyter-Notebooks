{
    "cells": [
        {
            "cell_type": "code",
            "execution_count": null,
            "metadata": {
                "id": "oMr09dIDv-uc"
            },
            "outputs": [],
            "source": [
                "test = 0\n",
                "y = 20\n",
                "test = y\n",
                "print(\"zer\")"
            ]
        }
    ],
    "metadata": {
        "colab": {
            "name": "Untitled3.ipynb",
            "provenance": []
        },
        "kernelspec": {
            "display_name": "Python 3 (ipykernel)",
            "language": "python",
            "name": "python3"
        },
        "language_info": {
            "name": "python",
            "version": "3.7.3"
        }
    },
    "nbformat": 4,
    "nbformat_minor": 0
}
