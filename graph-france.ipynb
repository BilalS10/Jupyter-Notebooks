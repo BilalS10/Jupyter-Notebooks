{
 "cells": [
  {
   "cell_type": "code",
   "execution_count": null,
   "id": "4fb5ae1a",
   "metadata": {},
   "outputs": [],
   "source": [
    "import plotly.express as px\n",
    "data_canada = px.data.gapminder().query(\"country == 'France'\")\n",
    "fig = px.bar(data_canada, x='year', y='pop', template='seaborn')\n",
    "fig.show()"
   ]
  },
  {
   "cell_type": "code",
   "execution_count": 3,
   "id": "86b9f398-3532-4491-b9a5-2130547c1bc1",
   "metadata": {},
   "outputs": [],
   "source": [
    "fileName = \"fileName.html\"\n",
    "fig.write_html(fileName,include_plotlyjs=False)"
   ]
  },
  {
   "cell_type": "code",
   "execution_count": null,
   "id": "5f362635-1612-42f0-8ab3-f3ed6cad0f0a",
   "metadata": {},
   "outputs": [],
   "source": []
  }
 ],
 "metadata": {
  "kernelspec": {
   "display_name": "Python 3 (ipykernel)",
   "language": "python",
   "name": "python3"
  },
  "language_info": {
   "codemirror_mode": {
    "name": "ipython",
    "version": 3
   },
   "file_extension": ".py",
   "mimetype": "text/x-python",
   "name": "python",
   "nbconvert_exporter": "python",
   "pygments_lexer": "ipython3",
   "version": "3.9.10"
  }
 },
 "nbformat": 4,
 "nbformat_minor": 5
}
